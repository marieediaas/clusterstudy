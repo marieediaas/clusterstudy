{
 "cells": [
  {
   "cell_type": "code",
   "execution_count": 1,
   "id": "05b44cd3-fc9a-4ec9-8827-5ff3fffe8d30",
   "metadata": {},
   "outputs": [],
   "source": [
    "import numpy as np\n",
    "import pandas as pd\n",
    "from astropy.io import ascii\n",
    "import os\n",
    "import matplotlib.pyplot as plt\n",
    "%run -i /Users/marie/Documents/Research/dataproc/tools/cluster_tools.py"
   ]
  },
  {
   "cell_type": "code",
   "execution_count": 2,
   "id": "e7af36a3-2223-44c7-9e20-11c8332001e4",
   "metadata": {},
   "outputs": [],
   "source": [
    "data = ascii.read(\"Catalogues/NGC5822.csv\")\n"
   ]
  },
  {
   "cell_type": "code",
   "execution_count": 3,
   "id": "cc94fbb0-6324-4696-b0c4-290f56a8ac12",
   "metadata": {
    "collapsed": true,
    "jupyter": {
     "outputs_hidden": true
    }
   },
   "outputs": [
    {
     "data": {
      "text/html": [
       "<div><i>Table length=4036416</i>\n",
       "<table id=\"table4558133088\" class=\"table-striped table-bordered table-condensed\">\n",
       "<thead><tr><th>RA_ICRS</th><th>DE_ICRS</th><th>Source</th><th>Plx</th><th>pmRA</th><th>pmDE</th><th>Solved</th><th>nueff</th><th>pscol</th><th>RUWE</th><th>Gmag</th><th>BPmag</th><th>RPmag</th><th>BP-RP</th><th>RV</th><th>ELAT</th><th>RAJ2000</th><th>DEJ2000</th></tr></thead>\n",
       "<thead><tr><th>float64</th><th>float64</th><th>int64</th><th>float64</th><th>float64</th><th>float64</th><th>int64</th><th>float64</th><th>float64</th><th>float64</th><th>float64</th><th>float64</th><th>float64</th><th>float64</th><th>float64</th><th>float64</th><th>float64</th><th>float64</th></tr></thead>\n",
       "<tr><td>226.35666500008</td><td>-56.35735328493</td><td>5880537795693680384</td><td>0.5296</td><td>-5.47</td><td>-2.782</td><td>95</td><td>--</td><td>1.092</td><td>1.052</td><td>19.90185</td><td>21.685026</td><td>18.62561</td><td>3.059416</td><td>--</td><td>-37.18131149975</td><td>226.35670888014</td><td>-56.35734091859</td></tr>\n",
       "<tr><td>226.36180026404</td><td>-56.353948428</td><td>5880537795693680768</td><td>-0.0387</td><td>-5.575</td><td>-3.232</td><td>95</td><td>--</td><td>1.1746</td><td>1.072</td><td>18.88167</td><td>21.047142</td><td>17.567514</td><td>3.479628</td><td>--</td><td>-37.17713484309</td><td>226.36184498443</td><td>-56.35393406375</td></tr>\n",
       "<tr><td>226.3703761756</td><td>-56.35770077344</td><td>5880537799989313408</td><td>0.7526</td><td>-4.256</td><td>-2.386</td><td>95</td><td>--</td><td>1.2387</td><td>1.063</td><td>20.189924</td><td>21.503067</td><td>19.058859</td><td>2.444208</td><td>--</td><td>-37.17902064888</td><td>226.37041031595</td><td>-56.35769017089</td></tr>\n",
       "<tr><td>226.36643119777</td><td>-56.35443609623</td><td>5880537799989320448</td><td>0.8083</td><td>-2.857</td><td>-1.351</td><td>31</td><td>1.269</td><td>--</td><td>0.988</td><td>19.200275</td><td>20.446186</td><td>18.044996</td><td>2.40119</td><td>--</td><td>-37.17670871749</td><td>226.36645411465</td><td>-56.35443009168</td></tr>\n",
       "<tr><td>226.36440622851</td><td>-56.35314541775</td><td>5880537799989322880</td><td>-0.155</td><td>-6.957</td><td>-4.28</td><td>95</td><td>--</td><td>1.2077</td><td>1.064</td><td>19.753582</td><td>21.257765</td><td>18.621637</td><td>2.636128</td><td>--</td><td>-37.17588355731</td><td>226.36446203446</td><td>-56.35312639486</td></tr>\n",
       "<tr><td>226.36684218866</td><td>-56.35696582602</td><td>5880537799990795648</td><td>--</td><td>--</td><td>--</td><td>3</td><td>--</td><td>--</td><td>--</td><td>21.026562</td><td>21.724134</td><td>20.01213</td><td>1.712004</td><td>--</td><td>-37.17900515318</td><td>226.36684218866</td><td>-56.35696582602</td></tr>\n",
       "<tr><td>226.36675508858</td><td>-56.35357129378</td><td>5880537800003365760</td><td>0.4569</td><td>-5.302</td><td>-3.772</td><td>31</td><td>1.366</td><td>--</td><td>1.016</td><td>17.164618</td><td>18.026125</td><td>16.221645</td><td>1.80448</td><td>--</td><td>-37.17583502914</td><td>226.36679761457</td><td>-56.35355453122</td></tr>\n",
       "<tr><td>226.3645752421</td><td>-56.35621527896</td><td>5880537800006575104</td><td>-0.2815</td><td>-8.225</td><td>-3.721</td><td>95</td><td>--</td><td>1.0705</td><td>1.098</td><td>19.472794</td><td>21.129303</td><td>18.077908</td><td>3.051395</td><td>--</td><td>-37.17873323191</td><td>226.36464122428</td><td>-56.35619874255</td></tr>\n",
       "<tr><td>226.36150799081</td><td>-56.35622662254</td><td>5880537800006575488</td><td>0.1409</td><td>-0.674</td><td>-2.625</td><td>95</td><td>--</td><td>1.2665</td><td>1.056</td><td>19.186852</td><td>20.668812</td><td>18.019531</td><td>2.649281</td><td>--</td><td>-37.17932934652</td><td>226.3615133972</td><td>-56.35621495575</td></tr>\n",
       "<tr><td>...</td><td>...</td><td>...</td><td>...</td><td>...</td><td>...</td><td>...</td><td>...</td><td>...</td><td>...</td><td>...</td><td>...</td><td>...</td><td>...</td><td>...</td><td>...</td><td>...</td><td>...</td></tr>\n",
       "<tr><td>226.31919976262</td><td>-52.3724312841</td><td>5900349144125928448</td><td>0.4907</td><td>-7.442</td><td>1.983</td><td>31</td><td>1.444</td><td>--</td><td>0.994</td><td>16.107018</td><td>16.715351</td><td>15.350868</td><td>1.364483</td><td>--</td><td>-33.43639411561</td><td>226.31925393819</td><td>-52.37244009747</td></tr>\n",
       "<tr><td>226.2933679624</td><td>-52.37171741653</td><td>5900349174151515776</td><td>0.3309</td><td>-3.397</td><td>-3.756</td><td>31</td><td>1.389</td><td>--</td><td>1.016</td><td>18.21363</td><td>18.99883</td><td>17.38014</td><td>1.618691</td><td>--</td><td>-33.44091334923</td><td>226.29339268984</td><td>-52.37170072365</td></tr>\n",
       "<tr><td>226.29790976127</td><td>-52.37242687789</td><td>5900349174151529856</td><td>0.1652</td><td>-3.465</td><td>-4.004</td><td>31</td><td>1.326</td><td>--</td><td>1.012</td><td>18.330713</td><td>19.458517</td><td>17.34856</td><td>2.109957</td><td>--</td><td>-33.44066993066</td><td>226.29793498648</td><td>-52.37240908115</td></tr>\n",
       "<tr><td>226.29218341566</td><td>-52.37741650426</td><td>5900349178464142720</td><td>0.4351</td><td>-5.754</td><td>-6.144</td><td>95</td><td>--</td><td>1.3831</td><td>1.058</td><td>19.259514</td><td>20.283377</td><td>18.344337</td><td>1.939039</td><td>--</td><td>-33.44653259391</td><td>226.29222530472</td><td>-52.37738919969</td></tr>\n",
       "<tr><td>226.28989622084</td><td>-52.37336806662</td><td>5900349178464465920</td><td>1.0689</td><td>-3.189</td><td>-4.319</td><td>95</td><td>--</td><td>1.6376</td><td>0.935</td><td>20.275684</td><td>20.810522</td><td>19.23056</td><td>1.579962</td><td>--</td><td>-33.44317005594</td><td>226.28991943958</td><td>-52.37334886885</td></tr>\n",
       "<tr><td>226.28983980179</td><td>-52.37282400885</td><td>5900349178464466176</td><td>-1.6185</td><td>-3.531</td><td>-3.431</td><td>95</td><td>--</td><td>1.1041</td><td>1.032</td><td>20.356627</td><td>21.277514</td><td>19.249498</td><td>2.028015</td><td>--</td><td>-33.44266770922</td><td>226.28986551002</td><td>-52.3728087617</td></tr>\n",
       "<tr><td>226.29120869293</td><td>-52.37253207581</td><td>5900349178465227520</td><td>0.4075</td><td>-4.95</td><td>-6.181</td><td>95</td><td>--</td><td>1.7444</td><td>1.163</td><td>20.275833</td><td>21.081573</td><td>19.279041</td><td>1.802532</td><td>--</td><td>-33.44211677631</td><td>226.29124472774</td><td>-52.37250460411</td></tr>\n",
       "<tr><td>226.29575884146</td><td>-52.37591827873</td><td>5900349178485667456</td><td>0.3001</td><td>-1.529</td><td>-3.17</td><td>31</td><td>1.38</td><td>--</td><td>1.032</td><td>17.774643</td><td>18.61361</td><td>16.902786</td><td>1.710823</td><td>--</td><td>-33.44439902325</td><td>226.29576996943</td><td>-52.3759041914</td></tr>\n",
       "<tr><td>226.28776425716</td><td>-52.37134293596</td><td>5900349178485670016</td><td>0.4708</td><td>-4.717</td><td>-2.485</td><td>31</td><td>1.392</td><td>--</td><td>0.968</td><td>17.747835</td><td>18.506895</td><td>16.90777</td><td>1.599125</td><td>--</td><td>-33.44168672185</td><td>226.28779859272</td><td>-52.37133189162</td></tr>\n",
       "<tr><td>226.29454101838</td><td>-52.37188501085</td><td>5900349178490631040</td><td>0.0638</td><td>-7.315</td><td>-3.556</td><td>95</td><td>--</td><td>1.4095</td><td>0.915</td><td>19.31694</td><td>20.212915</td><td>18.37907</td><td>1.833845</td><td>--</td><td>-33.44083569711</td><td>226.29459426898</td><td>-52.37186920789</td></tr>\n",
       "</table></div>"
      ],
      "text/plain": [
       "<Table length=4036416>\n",
       "    RA_ICRS         DE_ICRS     ...     RAJ2000         DEJ2000    \n",
       "    float64         float64     ...     float64         float64    \n",
       "--------------- --------------- ... --------------- ---------------\n",
       "226.35666500008 -56.35735328493 ... 226.35670888014 -56.35734091859\n",
       "226.36180026404   -56.353948428 ... 226.36184498443 -56.35393406375\n",
       " 226.3703761756 -56.35770077344 ... 226.37041031595 -56.35769017089\n",
       "226.36643119777 -56.35443609623 ... 226.36645411465 -56.35443009168\n",
       "226.36440622851 -56.35314541775 ... 226.36446203446 -56.35312639486\n",
       "226.36684218866 -56.35696582602 ... 226.36684218866 -56.35696582602\n",
       "226.36675508858 -56.35357129378 ... 226.36679761457 -56.35355453122\n",
       " 226.3645752421 -56.35621527896 ... 226.36464122428 -56.35619874255\n",
       "226.36150799081 -56.35622662254 ...  226.3615133972 -56.35621495575\n",
       "            ...             ... ...             ...             ...\n",
       "226.31919976262  -52.3724312841 ... 226.31925393819 -52.37244009747\n",
       " 226.2933679624 -52.37171741653 ... 226.29339268984 -52.37170072365\n",
       "226.29790976127 -52.37242687789 ... 226.29793498648 -52.37240908115\n",
       "226.29218341566 -52.37741650426 ... 226.29222530472 -52.37738919969\n",
       "226.28989622084 -52.37336806662 ... 226.28991943958 -52.37334886885\n",
       "226.28983980179 -52.37282400885 ... 226.28986551002  -52.3728087617\n",
       "226.29120869293 -52.37253207581 ... 226.29124472774 -52.37250460411\n",
       "226.29575884146 -52.37591827873 ... 226.29576996943  -52.3759041914\n",
       "226.28776425716 -52.37134293596 ... 226.28779859272 -52.37133189162\n",
       "226.29454101838 -52.37188501085 ... 226.29459426898 -52.37186920789"
      ]
     },
     "execution_count": 3,
     "metadata": {},
     "output_type": "execute_result"
    }
   ],
   "source": [
    "data"
   ]
  },
  {
   "cell_type": "markdown",
   "id": "3004be26-fc22-4ac2-b42c-eb953666215b",
   "metadata": {},
   "source": [
    "### Applying cut in the RUWE < 1.4"
   ]
  },
  {
   "cell_type": "code",
   "execution_count": 4,
   "id": "fe1bff25-3bdf-4928-890b-325ad929739b",
   "metadata": {},
   "outputs": [],
   "source": [
    "data_corr1 = quality_filter(data,\"vizier\")"
   ]
  },
  {
   "cell_type": "markdown",
   "id": "c912c3f2-6a85-448c-af4c-6223be058018",
   "metadata": {},
   "source": [
    "### Correcting the parallax"
   ]
  },
  {
   "cell_type": "code",
   "execution_count": 5,
   "id": "70c4bbc9-50f0-4fe6-8401-6ccf59d5291e",
   "metadata": {},
   "outputs": [],
   "source": [
    "data_corr2 = corr_plx(data_corr1, \"vizier\")"
   ]
  },
  {
   "cell_type": "markdown",
   "id": "def18af2-a321-43ff-9fd0-1060ba12fccc",
   "metadata": {},
   "source": [
    "## Saving the corrected data"
   ]
  },
  {
   "cell_type": "code",
   "execution_count": 6,
   "id": "c87a8e33-6181-4e57-a3a3-147d6b841d1e",
   "metadata": {},
   "outputs": [],
   "source": [
    "## Saving the corrected data\n",
    "#saving the final table with the cluster's population\n",
    "#ascii.write(data_corr2, 'Catalogues/NGC5822_2.csv', format='csv', fast_writer=False, overwrite=True)  "
   ]
  },
  {
   "cell_type": "code",
   "execution_count": null,
   "id": "41aa497a-73fd-4c29-b2ae-676351679220",
   "metadata": {},
   "outputs": [],
   "source": []
  }
 ],
 "metadata": {
  "kernelspec": {
   "display_name": "Python 3 (ipykernel)",
   "language": "python",
   "name": "python3"
  },
  "language_info": {
   "codemirror_mode": {
    "name": "ipython",
    "version": 3
   },
   "file_extension": ".py",
   "mimetype": "text/x-python",
   "name": "python",
   "nbconvert_exporter": "python",
   "pygments_lexer": "ipython3",
   "version": "3.12.8"
  }
 },
 "nbformat": 4,
 "nbformat_minor": 5
}
