{
 "cells": [
  {
   "cell_type": "code",
   "execution_count": 1,
   "id": "8803dfba-71a4-4aa3-936f-8c6b3d3c85a6",
   "metadata": {},
   "outputs": [],
   "source": [
    "import numpy as np\n",
    "import pandas as pd\n",
    "from astropy.io import ascii\n",
    "from astropy.table import Table\n",
    "import os"
   ]
  },
  {
   "cell_type": "code",
   "execution_count": 2,
   "id": "f8ab40ef-e43f-4961-8580-cc1eca053692",
   "metadata": {},
   "outputs": [],
   "source": [
    "df = pd.read_csv('Catalogues/NGC5822_4.csv')"
   ]
  },
  {
   "cell_type": "code",
   "execution_count": 3,
   "id": "27b83430-f5a1-42ff-9565-9a4a4c7eb23d",
   "metadata": {},
   "outputs": [],
   "source": [
    "df1 = df[[\"RAJ2000\", \"DEJ2000\", \"pmRA\", \"pmDE\", \"BP-RP\", \"Plx_corr\"]].copy()"
   ]
  },
  {
   "cell_type": "code",
   "execution_count": 4,
   "id": "995d87ec-4f51-4cb4-9819-6dd4f3e43679",
   "metadata": {},
   "outputs": [],
   "source": [
    "ra_mean = df1[\"RAJ2000\"].mean()\n",
    "dec_mean = df1[\"DEJ2000\"].mean()\n",
    "pmra_mean = df1[\"pmRA\"].mean()\n",
    "pmde_mean = df1[\"pmDE\"].mean()\n",
    "bprp_mean = df1[\"BP-RP\"].mean()\n",
    "plx_mean = df1[\"Plx_corr\"].mean()\n",
    "\n",
    "ra_std = df1[\"RAJ2000\"].std()\n",
    "dec_std = df1[\"DEJ2000\"].std()\n",
    "pmra_std = df1[\"pmRA\"].std()\n",
    "pmde_std = df1[\"pmDE\"].std()\n",
    "bprp_std = df1[\"BP-RP\"].std()\n",
    "plx_std = df1[\"Plx_corr\"].std()\n"
   ]
  },
  {
   "cell_type": "code",
   "execution_count": 5,
   "id": "81c2c8ca-6f3a-4b7a-ad01-2c41a47ba318",
   "metadata": {},
   "outputs": [],
   "source": [
    "ra_norm = (df1[\"RAJ2000\"] - ra_mean)/ra_std\n",
    "dec_norm = (df1[\"DEJ2000\"] - dec_mean)/dec_std\n",
    "pmra_norm = (df1[\"pmRA\"] - pmra_mean)/pmra_std\n",
    "pmde_norm = (df1[\"pmDE\"] - pmde_mean)/pmde_std\n",
    "bprp_norm = (df1[\"BP-RP\"] - bprp_mean)/bprp_std\n",
    "plx_norm = (df1[\"Plx_corr\"] - plx_mean)/plx_std"
   ]
  },
  {
   "cell_type": "code",
   "execution_count": 6,
   "id": "bb4a9f4f-b534-4ce1-b5f8-db97f51a036f",
   "metadata": {},
   "outputs": [],
   "source": [
    "\n",
    "df = pd.DataFrame({\n",
    "    'RAJ2000': ra_norm,\n",
    "    'DEJ2000': dec_norm,\n",
    "    'pmRA': pmra_norm,\n",
    "    'pmDE': pmde_norm,\n",
    "    'BP-RP': bprp_norm,\n",
    "    'Plx_corr': plx_norm\n",
    "})\n",
    "\n",
    "\n",
    "df.to_csv('Catalogues/NGC5822_norm2_5.csv', index=False)\n"
   ]
  },
  {
   "cell_type": "code",
   "execution_count": null,
   "id": "f5ea1c4f-988e-45a3-9039-21e68a1cc5a6",
   "metadata": {},
   "outputs": [],
   "source": []
  }
 ],
 "metadata": {
  "kernelspec": {
   "display_name": "Python 3 (ipykernel)",
   "language": "python",
   "name": "python3"
  },
  "language_info": {
   "codemirror_mode": {
    "name": "ipython",
    "version": 3
   },
   "file_extension": ".py",
   "mimetype": "text/x-python",
   "name": "python",
   "nbconvert_exporter": "python",
   "pygments_lexer": "ipython3",
   "version": "3.12.8"
  }
 },
 "nbformat": 4,
 "nbformat_minor": 5
}
