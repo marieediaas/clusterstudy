{
 "cells": [
  {
   "cell_type": "code",
   "execution_count": 1,
   "id": "05b44cd3-fc9a-4ec9-8827-5ff3fffe8d30",
   "metadata": {},
   "outputs": [],
   "source": [
    "import numpy as np\n",
    "import pandas as pd\n",
    "from astropy.io import ascii\n",
    "import os\n",
    "import matplotlib.pyplot as plt\n",
    "%run -i /Users/marie/Documents/Research/dataproc/tools/cluster_tools.py"
   ]
  },
  {
   "cell_type": "code",
   "execution_count": 3,
   "id": "e7af36a3-2223-44c7-9e20-11c8332001e4",
   "metadata": {},
   "outputs": [],
   "source": [
    "data = ascii.read(\"Catalogues/NGC2539.csv\")\n"
   ]
  },
  {
   "cell_type": "code",
   "execution_count": 4,
   "id": "cc94fbb0-6324-4696-b0c4-290f56a8ac12",
   "metadata": {
    "collapsed": true,
    "jupyter": {
     "outputs_hidden": true
    }
   },
   "outputs": [
    {
     "data": {
      "text/html": [
       "<div><i>Table length=384532</i>\n",
       "<table id=\"table17076153488\" class=\"table-striped table-bordered table-condensed\">\n",
       "<thead><tr><th>RA_ICRS</th><th>DE_ICRS</th><th>Source</th><th>e_RA_ICRS</th><th>e_DE_ICRS</th><th>Plx</th><th>e_Plx</th><th>PM</th><th>pmRA</th><th>e_pmRA</th><th>pmDE</th><th>e_pmDE</th><th>Solved</th><th>nueff</th><th>pscol</th><th>RUWE</th><th>Gmag</th><th>BPmag</th><th>RPmag</th><th>BP-RP</th><th>RV</th><th>ELAT</th><th>RAJ2000</th><th>DEJ2000</th></tr></thead>\n",
       "<thead><tr><th>float64</th><th>float64</th><th>int64</th><th>float64</th><th>float64</th><th>float64</th><th>float64</th><th>float64</th><th>float64</th><th>float64</th><th>float64</th><th>float64</th><th>int64</th><th>float64</th><th>float64</th><th>float64</th><th>float64</th><th>float64</th><th>float64</th><th>float64</th><th>float64</th><th>float64</th><th>float64</th><th>float64</th></tr></thead>\n",
       "<tr><td>120.71025827812</td><td>-12.22120928683</td><td>3036167391483705344</td><td>0.1734</td><td>0.1294</td><td>0.3319</td><td>0.2797</td><td>4.819</td><td>-4.702</td><td>0.26</td><td>-1.055</td><td>0.192</td><td>31</td><td>1.498</td><td>--</td><td>0.992</td><td>19.148891</td><td>19.625938</td><td>18.633556</td><td>0.992382</td><td>--</td><td>-31.90155089916</td><td>120.7102796591</td><td>-12.22120459812</td></tr>\n",
       "<tr><td>120.70988297903</td><td>-12.21571792017</td><td>3036167391483714944</td><td>0.1313</td><td>0.1005</td><td>0.4093</td><td>0.2084</td><td>2.742</td><td>-2.3</td><td>0.208</td><td>1.493</td><td>0.153</td><td>31</td><td>1.486</td><td>--</td><td>1.431</td><td>18.4654</td><td>18.898415</td><td>17.809938</td><td>1.088476</td><td>--</td><td>-31.89630681692</td><td>120.70989343983</td><td>-12.21572455522</td></tr>\n",
       "<tr><td>120.71278805329</td><td>-12.21728718537</td><td>3036167395781707136</td><td>0.4152</td><td>0.3122</td><td>-0.009</td><td>0.685</td><td>3.841</td><td>-2.492</td><td>0.572</td><td>2.923</td><td>0.462</td><td>95</td><td>--</td><td>1.5919</td><td>1.071</td><td>20.167942</td><td>20.735071</td><td>19.41633</td><td>1.318741</td><td>--</td><td>-31.89715110779</td><td>120.71279938663</td><td>-12.21730017699</td></tr>\n",
       "<tr><td>120.71617245449</td><td>-12.21563565598</td><td>3036167395781793920</td><td>0.5595</td><td>0.4507</td><td>-0.5966</td><td>0.8712</td><td>0.663</td><td>-0.233</td><td>0.749</td><td>0.62</td><td>0.657</td><td>95</td><td>--</td><td>1.2888</td><td>1.085</td><td>20.474571</td><td>21.347069</td><td>19.634233</td><td>1.712835</td><td>--</td><td>-31.89475601197</td><td>120.71617351256</td><td>-12.21563841286</td></tr>\n",
       "<tr><td>120.71218537311</td><td>-12.21895638257</td><td>3036167395781794176</td><td>10.9924</td><td>8.1772</td><td>--</td><td>--</td><td>--</td><td>--</td><td>--</td><td>--</td><td>--</td><td>3</td><td>--</td><td>--</td><td>--</td><td>21.230206</td><td>21.593561</td><td>20.065956</td><td>1.527605</td><td>--</td><td>-31.89891276086</td><td>120.71218537311</td><td>-12.21895638257</td></tr>\n",
       "<tr><td>120.72358133814</td><td>-12.2021672871</td><td>3036167769440850944</td><td>0.1092</td><td>0.0847</td><td>0.3858</td><td>0.1728</td><td>3.646</td><td>1.53</td><td>0.175</td><td>-3.309</td><td>0.131</td><td>31</td><td>1.572</td><td>--</td><td>0.985</td><td>18.709621</td><td>18.981518</td><td>18.259108</td><td>0.72241</td><td>--</td><td>-31.87994604495</td><td>120.72357438243</td><td>-12.20215257981</td></tr>\n",
       "<tr><td>120.71879995029</td><td>-12.21165404943</td><td>3036167773738216192</td><td>0.1981</td><td>0.1428</td><td>0.3677</td><td>0.3154</td><td>1.957</td><td>1.433</td><td>0.283</td><td>-1.333</td><td>0.214</td><td>95</td><td>--</td><td>1.3991</td><td>0.976</td><td>19.27425</td><td>20.305452</td><td>18.191477</td><td>2.113976</td><td>--</td><td>-31.89027553917</td><td>120.71879343335</td><td>-12.2116481237</td></tr>\n",
       "<tr><td>120.71402203642</td><td>-12.20546839085</td><td>3036167773738216576</td><td>0.6584</td><td>0.54</td><td>-1.197</td><td>0.9526</td><td>3.157</td><td>-1.948</td><td>0.864</td><td>2.484</td><td>0.728</td><td>95</td><td>--</td><td>1.2298</td><td>0.971</td><td>20.612291</td><td>21.04988</td><td>19.803936</td><td>1.245943</td><td>--</td><td>-31.8853870576</td><td>120.71403089421</td><td>-12.20547942975</td></tr>\n",
       "<tr><td>120.72290216756</td><td>-12.20225920072</td><td>3036167773739762304</td><td>1.6883</td><td>1.5654</td><td>--</td><td>--</td><td>--</td><td>--</td><td>--</td><td>--</td><td>--</td><td>3</td><td>--</td><td>--</td><td>--</td><td>21.00666</td><td>20.478718</td><td>19.970583</td><td>0.508135</td><td>--</td><td>-31.88019415549</td><td>120.72290216756</td><td>-12.20225920072</td></tr>\n",
       "<tr><td>...</td><td>...</td><td>...</td><td>...</td><td>...</td><td>...</td><td>...</td><td>...</td><td>...</td><td>...</td><td>...</td><td>...</td><td>...</td><td>...</td><td>...</td><td>...</td><td>...</td><td>...</td><td>...</td><td>...</td><td>...</td><td>...</td><td>...</td><td>...</td></tr>\n",
       "<tr><td>122.44071206309</td><td>-10.84602599089</td><td>5728389820471243520</td><td>0.0857</td><td>0.0768</td><td>0.0021</td><td>0.121</td><td>1.23</td><td>-1.227</td><td>0.125</td><td>-0.077</td><td>0.129</td><td>31</td><td>1.557</td><td>--</td><td>2.89</td><td>16.165424</td><td>16.383722</td><td>15.561825</td><td>0.821897</td><td>--</td><td>-30.15551033128</td><td>122.44071761656</td><td>-10.8460256505</td></tr>\n",
       "<tr><td>122.43449101175</td><td>-10.84725039613</td><td>5728389820471243904</td><td>0.2457</td><td>0.219</td><td>-0.2553</td><td>0.3862</td><td>3.306</td><td>1.238</td><td>0.379</td><td>-3.066</td><td>0.354</td><td>31</td><td>1.493</td><td>--</td><td>1.039</td><td>19.543098</td><td>20.116924</td><td>19.07112</td><td>1.045805</td><td>--</td><td>-30.15820454254</td><td>122.43448541099</td><td>-10.84723676976</td></tr>\n",
       "<tr><td>122.45402928145</td><td>-10.84405016081</td><td>5728389854830109440</td><td>2.2831</td><td>2.3151</td><td>--</td><td>--</td><td>--</td><td>--</td><td>--</td><td>--</td><td>--</td><td>3</td><td>--</td><td>--</td><td>--</td><td>20.946852</td><td>21.39516</td><td>19.85611</td><td>1.539051</td><td>--</td><td>-30.15036745304</td><td>122.45402928145</td><td>-10.84405016081</td></tr>\n",
       "<tr><td>122.41353092858</td><td>-10.8594824926</td><td>5728389884894151936</td><td>0.2541</td><td>0.2224</td><td>0.1065</td><td>0.3861</td><td>1.986</td><td>-1.866</td><td>0.427</td><td>0.68</td><td>0.404</td><td>31</td><td>1.461</td><td>--</td><td>1.038</td><td>19.528597</td><td>20.100914</td><td>18.99552</td><td>1.105394</td><td>--</td><td>-30.17513675708</td><td>122.41353937347</td><td>-10.85948551588</td></tr>\n",
       "<tr><td>122.41410115349</td><td>-10.85464236182</td><td>5728389889189651712</td><td>1.6256</td><td>1.0232</td><td>--</td><td>--</td><td>--</td><td>--</td><td>--</td><td>--</td><td>--</td><td>3</td><td>--</td><td>--</td><td>--</td><td>20.787556</td><td>21.229202</td><td>19.699493</td><td>1.529709</td><td>--</td><td>-30.17030802636</td><td>122.41410115349</td><td>-10.85464236182</td></tr>\n",
       "<tr><td>122.42573019549</td><td>-10.84947569551</td><td>5728389919253898368</td><td>0.1619</td><td>0.1439</td><td>0.2643</td><td>0.2365</td><td>10.922</td><td>-5.841</td><td>0.247</td><td>9.229</td><td>0.251</td><td>31</td><td>1.382</td><td>--</td><td>1.007</td><td>19.001371</td><td>19.849955</td><td>18.213486</td><td>1.636469</td><td>--</td><td>-30.16248385783</td><td>122.42575662801</td><td>-10.84951671376</td></tr>\n",
       "<tr><td>122.42831236988</td><td>-10.84763922369</td><td>5728389923548249216</td><td>0.6092</td><td>0.5401</td><td>-0.3291</td><td>0.9027</td><td>0.991</td><td>0.595</td><td>0.846</td><td>0.793</td><td>0.805</td><td>95</td><td>--</td><td>1.3669</td><td>1.166</td><td>20.296112</td><td>21.529123</td><td>18.878445</td><td>2.650679</td><td>--</td><td>-30.16007851592</td><td>122.42830967936</td><td>-10.84764274687</td></tr>\n",
       "<tr><td>122.42120881673</td><td>-10.84764343511</td><td>5728389923549389952</td><td>3.2458</td><td>3.3185</td><td>--</td><td>--</td><td>--</td><td>--</td><td>--</td><td>--</td><td>--</td><td>3</td><td>--</td><td>--</td><td>--</td><td>20.999752</td><td>21.213356</td><td>19.972538</td><td>1.240818</td><td>--</td><td>-30.16180359748</td><td>122.42120881673</td><td>-10.84764343511</td></tr>\n",
       "<tr><td>122.39869364534</td><td>-10.85285192393</td><td>5728389953613634688</td><td>0.0534</td><td>0.0487</td><td>0.1473</td><td>0.0766</td><td>2.325</td><td>-2.024</td><td>0.078</td><td>1.145</td><td>0.079</td><td>31</td><td>1.569</td><td>--</td><td>1.031</td><td>17.159334</td><td>17.467318</td><td>16.68883</td><td>0.778488</td><td>--</td><td>-30.1723041322</td><td>122.39870280336</td><td>-10.85285701176</td></tr>\n",
       "<tr><td>122.40113058459</td><td>-10.85212481761</td><td>5728389953613635072</td><td>0.1063</td><td>0.0952</td><td>0.3387</td><td>0.1748</td><td>5.314</td><td>-5.275</td><td>0.189</td><td>0.646</td><td>0.205</td><td>31</td><td>1.423</td><td>--</td><td>0.986</td><td>18.35457</td><td>18.980356</td><td>17.602036</td><td>1.378321</td><td>--</td><td>-30.17100941324</td><td>122.40115445482</td><td>-10.85212769047</td></tr>\n",
       "</table></div>"
      ],
      "text/plain": [
       "<Table length=384532>\n",
       "    RA_ICRS         DE_ICRS     ...     RAJ2000         DEJ2000    \n",
       "    float64         float64     ...     float64         float64    \n",
       "--------------- --------------- ... --------------- ---------------\n",
       "120.71025827812 -12.22120928683 ...  120.7102796591 -12.22120459812\n",
       "120.70988297903 -12.21571792017 ... 120.70989343983 -12.21572455522\n",
       "120.71278805329 -12.21728718537 ... 120.71279938663 -12.21730017699\n",
       "120.71617245449 -12.21563565598 ... 120.71617351256 -12.21563841286\n",
       "120.71218537311 -12.21895638257 ... 120.71218537311 -12.21895638257\n",
       "120.72358133814  -12.2021672871 ... 120.72357438243 -12.20215257981\n",
       "120.71879995029 -12.21165404943 ... 120.71879343335  -12.2116481237\n",
       "120.71402203642 -12.20546839085 ... 120.71403089421 -12.20547942975\n",
       "120.72290216756 -12.20225920072 ... 120.72290216756 -12.20225920072\n",
       "            ...             ... ...             ...             ...\n",
       "122.44071206309 -10.84602599089 ... 122.44071761656  -10.8460256505\n",
       "122.43449101175 -10.84725039613 ... 122.43448541099 -10.84723676976\n",
       "122.45402928145 -10.84405016081 ... 122.45402928145 -10.84405016081\n",
       "122.41353092858  -10.8594824926 ... 122.41353937347 -10.85948551588\n",
       "122.41410115349 -10.85464236182 ... 122.41410115349 -10.85464236182\n",
       "122.42573019549 -10.84947569551 ... 122.42575662801 -10.84951671376\n",
       "122.42831236988 -10.84763922369 ... 122.42830967936 -10.84764274687\n",
       "122.42120881673 -10.84764343511 ... 122.42120881673 -10.84764343511\n",
       "122.39869364534 -10.85285192393 ... 122.39870280336 -10.85285701176\n",
       "122.40113058459 -10.85212481761 ... 122.40115445482 -10.85212769047"
      ]
     },
     "execution_count": 4,
     "metadata": {},
     "output_type": "execute_result"
    }
   ],
   "source": [
    "data"
   ]
  },
  {
   "cell_type": "markdown",
   "id": "3004be26-fc22-4ac2-b42c-eb953666215b",
   "metadata": {},
   "source": [
    "### Applying cut in the RUWE < 1.4"
   ]
  },
  {
   "cell_type": "code",
   "execution_count": 8,
   "id": "fe1bff25-3bdf-4928-890b-325ad929739b",
   "metadata": {},
   "outputs": [],
   "source": [
    "data_corr1 = quality_filter(data,\"vizier\")"
   ]
  },
  {
   "cell_type": "markdown",
   "id": "c912c3f2-6a85-448c-af4c-6223be058018",
   "metadata": {},
   "source": [
    "### Correcting the parallax"
   ]
  },
  {
   "cell_type": "code",
   "execution_count": 9,
   "id": "70c4bbc9-50f0-4fe6-8401-6ccf59d5291e",
   "metadata": {},
   "outputs": [],
   "source": [
    "data_corr2 = corr_plx(data_corr1, \"vizier\")"
   ]
  },
  {
   "cell_type": "markdown",
   "id": "def18af2-a321-43ff-9fd0-1060ba12fccc",
   "metadata": {},
   "source": [
    "## Saving the corrected data"
   ]
  },
  {
   "cell_type": "code",
   "execution_count": 10,
   "id": "c87a8e33-6181-4e57-a3a3-147d6b841d1e",
   "metadata": {},
   "outputs": [],
   "source": [
    "## Saving the corrected data\n",
    "#saving the final table with the cluster's population\n",
    "#ascii.write(data_corr2, 'Catalogues/NGC2539_2.csv', format='csv', fast_writer=False, overwrite=True)  "
   ]
  },
  {
   "cell_type": "code",
   "execution_count": null,
   "id": "41aa497a-73fd-4c29-b2ae-676351679220",
   "metadata": {},
   "outputs": [],
   "source": []
  }
 ],
 "metadata": {
  "kernelspec": {
   "display_name": "Python 3 (ipykernel)",
   "language": "python",
   "name": "python3"
  },
  "language_info": {
   "codemirror_mode": {
    "name": "ipython",
    "version": 3
   },
   "file_extension": ".py",
   "mimetype": "text/x-python",
   "name": "python",
   "nbconvert_exporter": "python",
   "pygments_lexer": "ipython3",
   "version": "3.12.8"
  }
 },
 "nbformat": 4,
 "nbformat_minor": 5
}
