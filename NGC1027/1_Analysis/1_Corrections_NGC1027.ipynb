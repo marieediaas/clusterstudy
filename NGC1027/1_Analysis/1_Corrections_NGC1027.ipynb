{
 "cells": [
  {
   "cell_type": "code",
   "execution_count": 2,
   "id": "05b44cd3-fc9a-4ec9-8827-5ff3fffe8d30",
   "metadata": {},
   "outputs": [],
   "source": [
    "import numpy as np\n",
    "import pandas as pd\n",
    "from astropy.io import ascii\n",
    "import os\n",
    "import matplotlib.pyplot as plt\n",
    "%run -i /Users/marie/Documents/Research/dataproc/tools/cluster_tools.py"
   ]
  },
  {
   "cell_type": "code",
   "execution_count": 3,
   "id": "e7af36a3-2223-44c7-9e20-11c8332001e4",
   "metadata": {},
   "outputs": [],
   "source": [
    "data = ascii.read(\"Catalogues/NGC1027.csv\")\n"
   ]
  },
  {
   "cell_type": "code",
   "execution_count": 4,
   "id": "cc94fbb0-6324-4696-b0c4-290f56a8ac12",
   "metadata": {
    "collapsed": true,
    "jupyter": {
     "outputs_hidden": true
    }
   },
   "outputs": [
    {
     "data": {
      "text/html": [
       "<div><i>Table length=782965</i>\n",
       "<table id=\"table4780590432\" class=\"table-striped table-bordered table-condensed\">\n",
       "<thead><tr><th>RA_ICRS</th><th>DE_ICRS</th><th>Source</th><th>Plx</th><th>e_Plx</th><th>PM</th><th>pmRA</th><th>pmDE</th><th>Solved</th><th>nueff</th><th>pscol</th><th>RUWE</th><th>Gmag</th><th>BPmag</th><th>RPmag</th><th>BP-RP</th><th>RV</th><th>ELAT</th><th>RAJ2000</th><th>DEJ2000</th></tr></thead>\n",
       "<thead><tr><th>float64</th><th>float64</th><th>int64</th><th>float64</th><th>float64</th><th>float64</th><th>float64</th><th>float64</th><th>int64</th><th>float64</th><th>float64</th><th>float64</th><th>float64</th><th>float64</th><th>float64</th><th>float64</th><th>float64</th><th>float64</th><th>float64</th><th>float64</th></tr></thead>\n",
       "<tr><td>40.70356063462</td><td>59.61684885702</td><td>464326960168035712</td><td>0.4634</td><td>0.0435</td><td>0.475</td><td>-0.355</td><td>-0.316</td><td>31</td><td>1.407</td><td>--</td><td>0.983</td><td>16.348143</td><td>17.074308</td><td>15.513087</td><td>1.561221</td><td>--</td><td>41.32074899818</td><td>40.70356375442</td><td>59.61685026185</td></tr>\n",
       "<tr><td>40.67886008833</td><td>59.6172386523</td><td>464327024587489024</td><td>0.9369</td><td>0.088</td><td>7.23</td><td>-3.622</td><td>-6.257</td><td>31</td><td>1.339</td><td>--</td><td>1.109</td><td>17.468147</td><td>18.47759</td><td>16.470379</td><td>2.007212</td><td>--</td><td>41.32612330203</td><td>40.67889191986</td><td>59.61726646305</td></tr>\n",
       "<tr><td>40.68553730489</td><td>59.61854951859</td><td>464327024587489920</td><td>0.0601</td><td>0.2174</td><td>1.236</td><td>-0.795</td><td>-0.947</td><td>95</td><td>--</td><td>1.2752</td><td>1.006</td><td>19.176962</td><td>20.377491</td><td>18.07867</td><td>2.298821</td><td>--</td><td>41.3259672457</td><td>40.68554429153</td><td>59.61855372575</td></tr>\n",
       "<tr><td>40.67862791253</td><td>59.62259938121</td><td>464327024587500416</td><td>0.131</td><td>0.4404</td><td>0.565</td><td>-0.086</td><td>0.559</td><td>95</td><td>--</td><td>1.1965</td><td>1.016</td><td>20.087357</td><td>21.160364</td><td>19.089025</td><td>2.071339</td><td>--</td><td>41.3310796291</td><td>40.67862866437</td><td>59.62259689893</td></tr>\n",
       "<tr><td>40.68921250434</td><td>59.62752556089</td><td>464327024587511680</td><td>0.4066</td><td>0.1043</td><td>1.443</td><td>-1.431</td><td>0.182</td><td>31</td><td>1.369</td><td>--</td><td>1.014</td><td>17.888865</td><td>18.752983</td><td>16.999363</td><td>1.75362</td><td>--</td><td>41.33344084134</td><td>40.68922508482</td><td>59.6275247534</td></tr>\n",
       "<tr><td>40.68056799474</td><td>59.61831640525</td><td>464327024593916672</td><td>0.8061</td><td>0.3116</td><td>0.517</td><td>0.355</td><td>-0.375</td><td>95</td><td>--</td><td>1.2843</td><td>1.009</td><td>19.691965</td><td>20.888622</td><td>18.68184</td><td>2.206781</td><td>--</td><td>41.3267632888</td><td>40.68056487397</td><td>59.61831807338</td></tr>\n",
       "<tr><td>40.68858492632</td><td>59.61714556916</td><td>464327028884915968</td><td>-1.5297</td><td>1.4378</td><td>4.877</td><td>-3.72</td><td>3.153</td><td>95</td><td>--</td><td>1.4196</td><td>1.047</td><td>20.892317</td><td>21.54616</td><td>19.90098</td><td>1.64518</td><td>--</td><td>41.324062426</td><td>40.68861761871</td><td>59.61713155447</td></tr>\n",
       "<tr><td>40.68100261532</td><td>59.62622395028</td><td>464327028884917248</td><td>-1.2328</td><td>1.6052</td><td>0.592</td><td>-0.448</td><td>-0.387</td><td>95</td><td>--</td><td>1.3239</td><td>1.08</td><td>20.781511</td><td>21.360136</td><td>19.493073</td><td>1.867063</td><td>--</td><td>41.33391643981</td><td>40.68100655249</td><td>59.62622566903</td></tr>\n",
       "<tr><td>40.69269812791</td><td>59.61622947059</td><td>464327028885412096</td><td>--</td><td>--</td><td>--</td><td>--</td><td>--</td><td>3</td><td>--</td><td>--</td><td>--</td><td>21.019522</td><td>22.171364</td><td>19.995249</td><td>2.176115</td><td>--</td><td>41.32238794278</td><td>40.69269812791</td><td>59.61622947059</td></tr>\n",
       "<tr><td>...</td><td>...</td><td>...</td><td>...</td><td>...</td><td>...</td><td>...</td><td>...</td><td>...</td><td>...</td><td>...</td><td>...</td><td>...</td><td>...</td><td>...</td><td>...</td><td>...</td><td>...</td><td>...</td><td>...</td></tr>\n",
       "<tr><td>39.86634730996</td><td>63.57763957489</td><td>515666697115608064</td><td>0.2929</td><td>0.1397</td><td>1.063</td><td>-0.251</td><td>1.033</td><td>31</td><td>1.422</td><td>--</td><td>1.011</td><td>18.441498</td><td>19.109701</td><td>17.64946</td><td>1.460241</td><td>--</td><td>45.08706172635</td><td>39.86634981706</td><td>63.57763498236</td></tr>\n",
       "<tr><td>39.855766482</td><td>63.57895461743</td><td>515666697116196352</td><td>--</td><td>--</td><td>--</td><td>--</td><td>--</td><td>3</td><td>--</td><td>--</td><td>--</td><td>21.128527</td><td>21.42607</td><td>20.158195</td><td>1.267874</td><td>--</td><td>45.09028361604</td><td>39.855766482</td><td>63.57895461743</td></tr>\n",
       "<tr><td>39.86314476902</td><td>63.57543958878</td><td>515666697116198144</td><td>--</td><td>--</td><td>--</td><td>--</td><td>--</td><td>3</td><td>--</td><td>--</td><td>--</td><td>20.917343</td><td>--</td><td>20.378592</td><td>--</td><td>--</td><td>45.08569435862</td><td>39.86314476902</td><td>63.57543958878</td></tr>\n",
       "<tr><td>39.86647450185</td><td>63.5742279919</td><td>515666697116370688</td><td>--</td><td>--</td><td>--</td><td>--</td><td>--</td><td>3</td><td>--</td><td>--</td><td>--</td><td>21.157434</td><td>--</td><td>19.852076</td><td>--</td><td>--</td><td>45.08396111996</td><td>39.86647450185</td><td>63.5742279919</td></tr>\n",
       "<tr><td>39.86721016657</td><td>63.57685967737</td><td>515666697123963008</td><td>0.3737</td><td>0.1075</td><td>1.455</td><td>0.767</td><td>-1.237</td><td>31</td><td>1.423</td><td>--</td><td>0.995</td><td>18.042978</td><td>18.699131</td><td>17.24467</td><td>1.45446</td><td>--</td><td>45.08619248091</td><td>39.86720250677</td><td>63.5768651735</td></tr>\n",
       "<tr><td>39.86882684655</td><td>63.57310271378</td><td>515666697123964288</td><td>0.3674</td><td>0.0774</td><td>1.141</td><td>0.327</td><td>-1.094</td><td>31</td><td>1.441</td><td>--</td><td>1.012</td><td>17.385921</td><td>18.0062</td><td>16.629845</td><td>1.376356</td><td>--</td><td>45.08249379879</td><td>39.86882358591</td><td>63.57310757412</td></tr>\n",
       "<tr><td>39.8641863805</td><td>63.56937751157</td><td>515666697123966336</td><td>0.2353</td><td>0.0468</td><td>2.435</td><td>-2.414</td><td>0.319</td><td>31</td><td>1.445</td><td>--</td><td>1.057</td><td>16.44511</td><td>17.040998</td><td>15.68336</td><td>1.357638</td><td>--</td><td>45.08002787964</td><td>39.86421048288</td><td>63.56937609585</td></tr>\n",
       "<tr><td>39.87097979355</td><td>63.58124797232</td><td>515666727179961856</td><td>0.448</td><td>0.083</td><td>1.072</td><td>0.449</td><td>-0.973</td><td>31</td><td>1.432</td><td>--</td><td>1.011</td><td>17.5538</td><td>18.198118</td><td>16.772041</td><td>1.426077</td><td>--</td><td>45.08942396821</td><td>39.87097530367</td><td>63.58125229531</td></tr>\n",
       "<tr><td>39.78758772128</td><td>63.57136268592</td><td>515666830258703104</td><td>1.3174</td><td>0.5515</td><td>0.631</td><td>0.626</td><td>0.074</td><td>95</td><td>--</td><td>1.383</td><td>1.004</td><td>20.314638</td><td>21.198803</td><td>19.411152</td><td>1.787651</td><td>--</td><td>45.09656990059</td><td>39.78758146823</td><td>63.57136235728</td></tr>\n",
       "<tr><td>39.77499341204</td><td>63.57099766234</td><td>515666830258920832</td><td>0.209</td><td>0.1305</td><td>1.07</td><td>-0.751</td><td>0.761</td><td>31</td><td>1.463</td><td>--</td><td>0.973</td><td>18.317694</td><td>18.85602</td><td>17.65515</td><td>1.20087</td><td>--</td><td>45.09866834599</td><td>39.77500091181</td><td>63.57099427813</td></tr>\n",
       "</table></div>"
      ],
      "text/plain": [
       "<Table length=782965>\n",
       "   RA_ICRS        DE_ICRS     ...    RAJ2000        DEJ2000    \n",
       "   float64        float64     ...    float64        float64    \n",
       "-------------- -------------- ... -------------- --------------\n",
       "40.70356063462 59.61684885702 ... 40.70356375442 59.61685026185\n",
       "40.67886008833  59.6172386523 ... 40.67889191986 59.61726646305\n",
       "40.68553730489 59.61854951859 ... 40.68554429153 59.61855372575\n",
       "40.67862791253 59.62259938121 ... 40.67862866437 59.62259689893\n",
       "40.68921250434 59.62752556089 ... 40.68922508482  59.6275247534\n",
       "40.68056799474 59.61831640525 ... 40.68056487397 59.61831807338\n",
       "40.68858492632 59.61714556916 ... 40.68861761871 59.61713155447\n",
       "40.68100261532 59.62622395028 ... 40.68100655249 59.62622566903\n",
       "40.69269812791 59.61622947059 ... 40.69269812791 59.61622947059\n",
       "           ...            ... ...            ...            ...\n",
       "39.86634730996 63.57763957489 ... 39.86634981706 63.57763498236\n",
       "  39.855766482 63.57895461743 ...   39.855766482 63.57895461743\n",
       "39.86314476902 63.57543958878 ... 39.86314476902 63.57543958878\n",
       "39.86647450185  63.5742279919 ... 39.86647450185  63.5742279919\n",
       "39.86721016657 63.57685967737 ... 39.86720250677  63.5768651735\n",
       "39.86882684655 63.57310271378 ... 39.86882358591 63.57310757412\n",
       " 39.8641863805 63.56937751157 ... 39.86421048288 63.56937609585\n",
       "39.87097979355 63.58124797232 ... 39.87097530367 63.58125229531\n",
       "39.78758772128 63.57136268592 ... 39.78758146823 63.57136235728\n",
       "39.77499341204 63.57099766234 ... 39.77500091181 63.57099427813"
      ]
     },
     "execution_count": 4,
     "metadata": {},
     "output_type": "execute_result"
    }
   ],
   "source": [
    "data"
   ]
  },
  {
   "cell_type": "markdown",
   "id": "3004be26-fc22-4ac2-b42c-eb953666215b",
   "metadata": {},
   "source": [
    "### Applying cut in the RUWE < 1.4"
   ]
  },
  {
   "cell_type": "code",
   "execution_count": 5,
   "id": "fe1bff25-3bdf-4928-890b-325ad929739b",
   "metadata": {},
   "outputs": [],
   "source": [
    "data_corr1 = quality_filter(data,\"vizier\")"
   ]
  },
  {
   "cell_type": "markdown",
   "id": "c912c3f2-6a85-448c-af4c-6223be058018",
   "metadata": {},
   "source": [
    "### Correcting the parallax"
   ]
  },
  {
   "cell_type": "code",
   "execution_count": 6,
   "id": "70c4bbc9-50f0-4fe6-8401-6ccf59d5291e",
   "metadata": {},
   "outputs": [],
   "source": [
    "data_corr2 = corr_plx(data_corr1, \"vizier\")"
   ]
  },
  {
   "cell_type": "markdown",
   "id": "def18af2-a321-43ff-9fd0-1060ba12fccc",
   "metadata": {},
   "source": [
    "## Saving the corrected data"
   ]
  },
  {
   "cell_type": "code",
   "execution_count": 7,
   "id": "c87a8e33-6181-4e57-a3a3-147d6b841d1e",
   "metadata": {},
   "outputs": [],
   "source": [
    "## Saving the corrected data\n",
    "#saving the final table with the cluster's population\n",
    "#ascii.write(data_corr2, 'Catalogues/NGC1027_2.csv', format='csv', fast_writer=False, overwrite=True)  "
   ]
  },
  {
   "cell_type": "code",
   "execution_count": null,
   "id": "41aa497a-73fd-4c29-b2ae-676351679220",
   "metadata": {},
   "outputs": [],
   "source": []
  }
 ],
 "metadata": {
  "kernelspec": {
   "display_name": "Python 3 (ipykernel)",
   "language": "python",
   "name": "python3"
  },
  "language_info": {
   "codemirror_mode": {
    "name": "ipython",
    "version": 3
   },
   "file_extension": ".py",
   "mimetype": "text/x-python",
   "name": "python",
   "nbconvert_exporter": "python",
   "pygments_lexer": "ipython3",
   "version": "3.12.8"
  }
 },
 "nbformat": 4,
 "nbformat_minor": 5
}
